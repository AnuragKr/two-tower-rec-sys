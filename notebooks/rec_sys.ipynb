{
  "cells": [
    {
      "cell_type": "markdown",
      "id": "98ddfc72",
      "metadata": {
        "id": "98ddfc72"
      },
      "source": [
        "## Building a Recommender System Architectures"
      ]
    },
    {
      "cell_type": "code",
      "execution_count": 2,
      "id": "af416ba6",
      "metadata": {
        "colab": {
          "base_uri": "https://localhost:8080/"
        },
        "id": "af416ba6",
        "outputId": "fc4b8bda-de8e-49cb-dd71-d4833c06451a"
      },
      "outputs": [
        {
          "output_type": "execute_result",
          "data": {
            "text/plain": [
              "device(type='cpu')"
            ]
          },
          "metadata": {},
          "execution_count": 2
        }
      ],
      "source": [
        "import os\n",
        "import torch\n",
        "import pandas as pd\n",
        "import numpy as np\n",
        "from torchvision import datasets, transforms\n",
        "import torchvision.models as models\n",
        "from torch.utils.data import DataLoader, Dataset\n",
        "import torch.optim as optim\n",
        "import torch.nn as nn\n",
        "import torch.nn.functional as F\n",
        "from tqdm import tqdm\n",
        "import matplotlib.pyplot as plt\n",
        "from sklearn.model_selection import train_test_split\n",
        "import random\n",
        "import matplotlib.pyplot as plt\n",
        "\n",
        "# Check if CUDA is available\n",
        "device = torch.device(\"cuda\" if torch.cuda.is_available() else \"cpu\")\n",
        "device"
      ]
    },
    {
      "cell_type": "code",
      "source": [
        "#mount drive\n",
        "from google.colab import drive\n",
        "drive.mount('/content/drive')"
      ],
      "metadata": {
        "colab": {
          "base_uri": "https://localhost:8080/"
        },
        "id": "9wkw1dYhEDKX",
        "outputId": "cce7199c-5152-473e-90a3-2481260ecb8f"
      },
      "id": "9wkw1dYhEDKX",
      "execution_count": 3,
      "outputs": [
        {
          "output_type": "stream",
          "name": "stdout",
          "text": [
            "Mounted at /content/drive\n"
          ]
        }
      ]
    },
    {
      "cell_type": "code",
      "source": [
        "#Load the embedded data\n",
        "file_path = '/content/drive/MyDrive/Companies Interview Projects/InShorts/cleaned_data/user_news_embed_data.pkl'\n",
        "\n",
        "df = pd.read_pickle(file_path)"
      ],
      "metadata": {
        "id": "OylxnHVfEJ6a"
      },
      "id": "OylxnHVfEJ6a",
      "execution_count": 4,
      "outputs": []
    },
    {
      "cell_type": "code",
      "source": [
        "X = df[['user_embed', 'news_embed']]\n",
        "y = df['label'].values\n",
        "\n",
        "# Train-test split\n",
        "X_train, X_test, y_train, y_test = train_test_split(\n",
        "    X, y, stratify=y, test_size=0.25, random_state=42\n",
        ")\n",
        "\n",
        "# Define Dataset\n",
        "\n",
        "class TwoTowerMNRDataset(Dataset):\n",
        "    def __init__(self, user_embeds, news_embeds, labels, all_news_embeds):\n",
        "        \"\"\"\n",
        "        Dataset for Two-Tower MNR training (optimized for pickle-stored embeddings).\n",
        "        \"\"\"\n",
        "        # Directly stack numpy arrays (since pickle preserves array format)\n",
        "        self.user_embeds = torch.tensor(np.stack(user_embeds), dtype=torch.float32)\n",
        "        self.pos_news_embeds = torch.tensor(np.stack(news_embeds), dtype=torch.float32)\n",
        "        self.all_news_embeds = torch.tensor(np.stack(all_news_embeds), dtype=torch.float32)\n",
        "\n",
        "        self.labels = torch.tensor(labels, dtype=torch.float32)\n",
        "        self.num_news = len(self.all_news_embeds)\n",
        "\n",
        "    def __len__(self):\n",
        "        return len(self.user_embeds)\n",
        "\n",
        "    def __getitem__(self, idx):\n",
        "        user_vec = self.user_embeds[idx]\n",
        "        pos_news_vec = self.pos_news_embeds[idx]\n",
        "\n",
        "        # Randomly sample a negative news embedding\n",
        "        neg_idx = np.random.randint(0, self.num_news)\n",
        "        neg_news_vec = self.all_news_embeds[neg_idx]\n",
        "\n",
        "        return user_vec, pos_news_vec, neg_news_vec"
      ],
      "metadata": {
        "id": "Vrln96fWpWjh"
      },
      "id": "Vrln96fWpWjh",
      "execution_count": 5,
      "outputs": []
    },
    {
      "cell_type": "code",
      "source": [
        "# Load from pickle\n",
        "# Load the stored embeddings\n",
        "user_embed_df = pd.read_pickle(\"/content/drive/MyDrive/Companies Interview Projects/InShorts/cleaned_data/user_embed_df.pkl\")\n",
        "news_embed_df = pd.read_pickle(\"/content/drive/MyDrive/Companies Interview Projects/InShorts/cleaned_data/news_embed_df.pkl\")\n",
        "\n",
        "# Create Dataset and DataLoader\n",
        "\n",
        "train_dataset = TwoTowerMNRDataset(\n",
        "    X_train['user_embed'].values,\n",
        "    X_train['news_embed'].values,\n",
        "    y_train,\n",
        "    all_news_embeds=news_embed_df['news_embed'].values\n",
        ")\n",
        "\n",
        "test_dataset = TwoTowerMNRDataset(\n",
        "    X_test['user_embed'].values,\n",
        "    X_test['news_embed'].values,\n",
        "    y_test,\n",
        "    all_news_embeds=news_embed_df['news_embed'].values\n",
        ")\n",
        "\n",
        "train_loader = DataLoader(train_dataset, batch_size=64, shuffle=True, num_workers=2)\n",
        "test_loader = DataLoader(test_dataset, batch_size=64, shuffle=False, num_workers=2)\n",
        "\n",
        "print(f\"✅ Train batches: {len(train_loader)} | Test batches: {len(test_loader)}\")"
      ],
      "metadata": {
        "colab": {
          "base_uri": "https://localhost:8080/"
        },
        "id": "ZjKbQNsuASRB",
        "outputId": "bb0b719a-b6e5-495b-857b-dd01f10e9194"
      },
      "id": "ZjKbQNsuASRB",
      "execution_count": 6,
      "outputs": [
        {
          "output_type": "stream",
          "name": "stdout",
          "text": [
            "✅ Train batches: 1219 | Test batches: 407\n"
          ]
        }
      ]
    },
    {
      "cell_type": "code",
      "source": [
        "class UserTower(nn.Module):\n",
        "    def __init__(self, input_dim, embed_dim):\n",
        "        super().__init__()\n",
        "        self.fc = nn.Sequential(\n",
        "            nn.Linear(input_dim, 128),\n",
        "            nn.ReLU(),\n",
        "            nn.Linear(128, embed_dim)\n",
        "        )\n",
        "    def forward(self, x):\n",
        "        return F.normalize(self.fc(x), p=2, dim=1)\n",
        "\n",
        "class NewsTower(nn.Module):\n",
        "    def __init__(self, input_dim, embed_dim):\n",
        "        super().__init__()\n",
        "        self.fc = nn.Sequential(\n",
        "            nn.Linear(input_dim, 128),\n",
        "            nn.ReLU(),\n",
        "            nn.Linear(128, embed_dim)\n",
        "        )\n",
        "    def forward(self, x):\n",
        "        return F.normalize(self.fc(x), p=2, dim=1)\n",
        "\n",
        "class TwoTowerModel(nn.Module):\n",
        "    def __init__(self, user_input_dim, news_input_dim, embed_dim):\n",
        "        super().__init__()\n",
        "        self.user_tower = UserTower(user_input_dim, embed_dim)\n",
        "        self.news_tower = NewsTower(news_input_dim, embed_dim)\n",
        "\n",
        "    def forward(self, user_x, news_x):\n",
        "      user_embed = self.user_tower(user_x)\n",
        "      news_embed = self.news_tower(news_x)\n",
        "      # element-wise similarity\n",
        "      score = (user_embed * news_embed).sum(dim=1, keepdim=True)\n",
        "      return score, user_embed, news_embed"
      ],
      "metadata": {
        "id": "MRrsoIxCnmE0"
      },
      "id": "MRrsoIxCnmE0",
      "execution_count": 7,
      "outputs": []
    },
    {
      "cell_type": "code",
      "source": [
        "#Trainable with MNR Loss\n",
        "def train_two_tower_mnr(\n",
        "    model, train_loader, test_loader, optimizer, device,\n",
        "    num_epochs=10, margin=0.2, patience=3, model_name='two_tower_mnr'\n",
        "):\n",
        "    \"\"\"\n",
        "    Train a Two-Tower model using Margin Ranking Loss (MNR) with tracking of\n",
        "    train/validation loss and accuracy for plotting.\n",
        "    \"\"\"\n",
        "    model.to(device)\n",
        "    criterion = nn.MarginRankingLoss(margin=margin)\n",
        "    best_loss = float('inf')\n",
        "    epochs_no_improve = 0\n",
        "\n",
        "    # For plotting\n",
        "    history = {\n",
        "        \"train_loss\": [],\n",
        "        \"val_loss\": [],\n",
        "        \"train_acc\": [],\n",
        "        \"val_acc\": []\n",
        "    }\n",
        "\n",
        "    for epoch in range(num_epochs):\n",
        "        # ------------------ TRAIN ------------------\n",
        "        model.train()\n",
        "        running_loss = 0.0\n",
        "        correct = 0\n",
        "        total = 0\n",
        "\n",
        "        for user_vec, pos_news_vec, neg_news_vec in tqdm(train_loader, desc=f\"Epoch {epoch+1}/{num_epochs}\"):\n",
        "            # Move to device\n",
        "            user_vec, pos_news_vec, neg_news_vec = user_vec.to(device), pos_news_vec.to(device), neg_news_vec.to(device)\n",
        "\n",
        "            optimizer.zero_grad()\n",
        "\n",
        "            # Forward\n",
        "            user_emb = model.user_tower(user_vec)\n",
        "            pos_news_emb = model.news_tower(pos_news_vec)\n",
        "            neg_news_emb = model.news_tower(neg_news_vec)\n",
        "\n",
        "            # Similarity scores\n",
        "            pos_scores = torch.sum(user_emb * pos_news_emb, dim=1)\n",
        "            neg_scores = torch.sum(user_emb * neg_news_emb, dim=1)\n",
        "\n",
        "            # Margin Ranking Loss\n",
        "            target = torch.ones_like(pos_scores)\n",
        "            loss = criterion(pos_scores, neg_scores, target)\n",
        "\n",
        "            # Backprop\n",
        "            loss.backward()\n",
        "            optimizer.step()\n",
        "\n",
        "            running_loss += loss.item() * user_vec.size(0)\n",
        "\n",
        "            # Accuracy (pos_score > neg_score)\n",
        "            correct += torch.sum(pos_scores > neg_scores).item()\n",
        "            total += user_vec.size(0)\n",
        "\n",
        "        avg_train_loss = running_loss / len(train_loader.dataset)\n",
        "        train_acc = correct / total\n",
        "\n",
        "        # ------------------ VALIDATION ------------------\n",
        "        model.eval()\n",
        "        val_loss = 0.0\n",
        "        correct = 0\n",
        "        total = 0\n",
        "\n",
        "        with torch.no_grad():\n",
        "            for user_vec, pos_news_vec, neg_news_vec in test_loader:\n",
        "                user_vec, pos_news_vec, neg_news_vec = user_vec.to(device), pos_news_vec.to(device), neg_news_vec.to(device)\n",
        "\n",
        "                user_emb = model.user_tower(user_vec)\n",
        "                pos_news_emb = model.news_tower(pos_news_vec)\n",
        "                neg_news_emb = model.news_tower(neg_news_vec)\n",
        "\n",
        "                pos_scores = torch.sum(user_emb * pos_news_emb, dim=1)\n",
        "                neg_scores = torch.sum(user_emb * neg_news_emb, dim=1)\n",
        "                target = torch.ones_like(pos_scores)\n",
        "                loss = criterion(pos_scores, neg_scores, target)\n",
        "\n",
        "                val_loss += loss.item() * user_vec.size(0)\n",
        "                correct += torch.sum(pos_scores > neg_scores).item()\n",
        "                total += user_vec.size(0)\n",
        "\n",
        "        avg_val_loss = val_loss / len(test_loader.dataset)\n",
        "        val_acc = correct / total\n",
        "\n",
        "        # Save stats\n",
        "        history[\"train_loss\"].append(avg_train_loss)\n",
        "        history[\"val_loss\"].append(avg_val_loss)\n",
        "        history[\"train_acc\"].append(train_acc)\n",
        "        history[\"val_acc\"].append(val_acc)\n",
        "\n",
        "        print(f\"Epoch {epoch+1}/{num_epochs} | \"\n",
        "              f\"Train Loss: {avg_train_loss:.4f} | Val Loss: {avg_val_loss:.4f} | \"\n",
        "              f\"Train Acc: {train_acc:.4f} | Val Acc: {val_acc:.4f}\")\n",
        "\n",
        "        # --- Early Stopping ---\n",
        "        if avg_val_loss < best_loss:\n",
        "            best_loss = avg_val_loss\n",
        "            epochs_no_improve = 0\n",
        "            torch.save(model.state_dict(), f\"/content/drive/MyDrive/Companies Interview Projects/InShorts/model/{model_name}_best.pth\")\n",
        "            print(f\"✅ Best model saved (Val Loss: {best_loss:.4f})\")\n",
        "        else:\n",
        "            epochs_no_improve += 1\n",
        "            if epochs_no_improve >= patience:\n",
        "                print(\"⛔ Early stopping triggered\")\n",
        "                break\n",
        "\n",
        "\n",
        "\n",
        "    return model, history"
      ],
      "metadata": {
        "id": "ZETtDtKwvBGB"
      },
      "id": "ZETtDtKwvBGB",
      "execution_count": 8,
      "outputs": []
    },
    {
      "cell_type": "code",
      "execution_count": 9,
      "id": "280ea2a4-f509-4455-8893-6e106aa314a7",
      "metadata": {
        "colab": {
          "base_uri": "https://localhost:8080/"
        },
        "id": "280ea2a4-f509-4455-8893-6e106aa314a7",
        "outputId": "89774abc-ec69-43ce-fafb-07c53be90a1f"
      },
      "outputs": [
        {
          "output_type": "stream",
          "name": "stdout",
          "text": [
            "30 407 128\n"
          ]
        },
        {
          "output_type": "stream",
          "name": "stderr",
          "text": [
            "Epoch 1/10: 100%|██████████| 1219/1219 [00:13<00:00, 89.66it/s] \n"
          ]
        },
        {
          "output_type": "stream",
          "name": "stdout",
          "text": [
            "Epoch 1/10 | Train Loss: 0.1297 | Val Loss: 0.1249 | Train Acc: 0.7041 | Val Acc: 0.7190\n",
            "✅ Best model saved (Val Loss: 0.1249)\n"
          ]
        },
        {
          "output_type": "stream",
          "name": "stderr",
          "text": [
            "Epoch 2/10: 100%|██████████| 1219/1219 [00:13<00:00, 87.35it/s]\n"
          ]
        },
        {
          "output_type": "stream",
          "name": "stdout",
          "text": [
            "Epoch 2/10 | Train Loss: 0.1209 | Val Loss: 0.1198 | Train Acc: 0.7269 | Val Acc: 0.7281\n",
            "✅ Best model saved (Val Loss: 0.1198)\n"
          ]
        },
        {
          "output_type": "stream",
          "name": "stderr",
          "text": [
            "Epoch 3/10: 100%|██████████| 1219/1219 [00:14<00:00, 83.80it/s]\n"
          ]
        },
        {
          "output_type": "stream",
          "name": "stdout",
          "text": [
            "Epoch 3/10 | Train Loss: 0.1158 | Val Loss: 0.1160 | Train Acc: 0.7414 | Val Acc: 0.7419\n",
            "✅ Best model saved (Val Loss: 0.1160)\n"
          ]
        },
        {
          "output_type": "stream",
          "name": "stderr",
          "text": [
            "Epoch 4/10: 100%|██████████| 1219/1219 [00:15<00:00, 79.96it/s]\n"
          ]
        },
        {
          "output_type": "stream",
          "name": "stdout",
          "text": [
            "Epoch 4/10 | Train Loss: 0.1110 | Val Loss: 0.1131 | Train Acc: 0.7538 | Val Acc: 0.7497\n",
            "✅ Best model saved (Val Loss: 0.1131)\n"
          ]
        },
        {
          "output_type": "stream",
          "name": "stderr",
          "text": [
            "Epoch 5/10: 100%|██████████| 1219/1219 [00:15<00:00, 76.86it/s]\n"
          ]
        },
        {
          "output_type": "stream",
          "name": "stdout",
          "text": [
            "Epoch 5/10 | Train Loss: 0.1069 | Val Loss: 0.1094 | Train Acc: 0.7630 | Val Acc: 0.7578\n",
            "✅ Best model saved (Val Loss: 0.1094)\n"
          ]
        },
        {
          "output_type": "stream",
          "name": "stderr",
          "text": [
            "Epoch 6/10: 100%|██████████| 1219/1219 [00:13<00:00, 88.72it/s]\n"
          ]
        },
        {
          "output_type": "stream",
          "name": "stdout",
          "text": [
            "Epoch 6/10 | Train Loss: 0.1032 | Val Loss: 0.1071 | Train Acc: 0.7719 | Val Acc: 0.7613\n",
            "✅ Best model saved (Val Loss: 0.1071)\n"
          ]
        },
        {
          "output_type": "stream",
          "name": "stderr",
          "text": [
            "Epoch 7/10: 100%|██████████| 1219/1219 [00:15<00:00, 80.16it/s]\n"
          ]
        },
        {
          "output_type": "stream",
          "name": "stdout",
          "text": [
            "Epoch 7/10 | Train Loss: 0.1003 | Val Loss: 0.1044 | Train Acc: 0.7801 | Val Acc: 0.7687\n",
            "✅ Best model saved (Val Loss: 0.1044)\n"
          ]
        },
        {
          "output_type": "stream",
          "name": "stderr",
          "text": [
            "Epoch 8/10: 100%|██████████| 1219/1219 [00:13<00:00, 87.72it/s]\n"
          ]
        },
        {
          "output_type": "stream",
          "name": "stdout",
          "text": [
            "Epoch 8/10 | Train Loss: 0.0970 | Val Loss: 0.1041 | Train Acc: 0.7883 | Val Acc: 0.7702\n",
            "✅ Best model saved (Val Loss: 0.1041)\n"
          ]
        },
        {
          "output_type": "stream",
          "name": "stderr",
          "text": [
            "Epoch 9/10: 100%|██████████| 1219/1219 [00:15<00:00, 80.55it/s]\n"
          ]
        },
        {
          "output_type": "stream",
          "name": "stdout",
          "text": [
            "Epoch 9/10 | Train Loss: 0.0955 | Val Loss: 0.1016 | Train Acc: 0.7924 | Val Acc: 0.7759\n",
            "✅ Best model saved (Val Loss: 0.1016)\n"
          ]
        },
        {
          "output_type": "stream",
          "name": "stderr",
          "text": [
            "Epoch 10/10: 100%|██████████| 1219/1219 [00:13<00:00, 90.39it/s]\n"
          ]
        },
        {
          "output_type": "stream",
          "name": "stdout",
          "text": [
            "Epoch 10/10 | Train Loss: 0.0939 | Val Loss: 0.1022 | Train Acc: 0.7945 | Val Acc: 0.7765\n"
          ]
        }
      ],
      "source": [
        "# Initialize the model\n",
        "user_input_dim = len(df['user_embed'].iloc[0])\n",
        "news_input_dim = len(df['news_embed'].iloc[0])\n",
        "embed_dim = 128  # tunable\n",
        "\n",
        "print(user_input_dim, news_input_dim,embed_dim)\n",
        "\n",
        "model = TwoTowerModel(user_input_dim, news_input_dim, embed_dim)\n",
        "\n",
        "# Optimizer\n",
        "optimizer = torch.optim.Adam(model.parameters(), lr=1e-3)\n",
        "\n",
        "# Train\n",
        "model, history = train_two_tower_mnr(\n",
        "    model=model,\n",
        "    train_loader=train_loader,\n",
        "    test_loader=test_loader,\n",
        "    optimizer=optimizer,\n",
        "    device=torch.device(\"cuda\" if torch.cuda.is_available() else \"cpu\"),\n",
        "    num_epochs=10,\n",
        "    margin=0.2,\n",
        "    patience=3,\n",
        "    model_name='two_tower_mnr'\n",
        ")"
      ]
    },
    {
      "cell_type": "markdown",
      "id": "50172230",
      "metadata": {
        "id": "50172230"
      },
      "source": [
        "### Plot: Epochs vs Train Loss and Test"
      ]
    },
    {
      "cell_type": "code",
      "execution_count": 10,
      "id": "ddf0b9e5",
      "metadata": {
        "id": "ddf0b9e5",
        "outputId": "a214ddb4-8b05-47a1-f1f0-dbdbcd67ae79",
        "colab": {
          "base_uri": "https://localhost:8080/",
          "height": 407
        }
      },
      "outputs": [
        {
          "output_type": "display_data",
          "data": {
            "text/plain": [
              "<Figure size 1000x400 with 2 Axes>"
            ],
            "image/png": "[encoded data removed]"
          },
          "metadata": {}
        }
      ],
      "source": [
        "# ------------------ PLOTTING ------------------\n",
        "plt.figure(figsize=(10,4))\n",
        "plt.subplot(1,2,1)\n",
        "plt.plot(history[\"train_loss\"], label=\"Train Loss\")\n",
        "plt.plot(history[\"val_loss\"], label=\"Val Loss\")\n",
        "plt.title(\"Loss over Epochs\")\n",
        "plt.xlabel(\"Epoch\")\n",
        "plt.ylabel(\"Loss\")\n",
        "plt.legend()\n",
        "\n",
        "plt.subplot(1,2,2)\n",
        "plt.plot(history[\"train_acc\"], label=\"Train Acc\")\n",
        "plt.plot(history[\"val_acc\"], label=\"Val Acc\")\n",
        "plt.title(\"Accuracy over Epochs\")\n",
        "plt.xlabel(\"Epoch\")\n",
        "plt.ylabel(\"Accuracy\")\n",
        "plt.legend()\n",
        "\n",
        "plt.tight_layout()\n",
        "plt.show()"
      ]
    },
    {
      "cell_type": "markdown",
      "id": "eb402baa-42ef-4c3d-b5ae-b782abac18bf",
      "metadata": {
        "id": "eb402baa-42ef-4c3d-b5ae-b782abac18bf"
      },
      "source": [
        "## Make predictions using our model"
      ]
    },
    {
      "cell_type": "code",
      "source": [
        "df_test = pd.read_csv('/content/drive/MyDrive/Companies Interview Projects/InShorts/cleaned_data/test_content_cleaned_data.csv')"
      ],
      "metadata": {
        "id": "NbxdQ2l8-EMI"
      },
      "id": "NbxdQ2l8-EMI",
      "execution_count": 11,
      "outputs": []
    },
    {
      "cell_type": "code",
      "source": [
        "df_test.head(5)"
      ],
      "metadata": {
        "colab": {
          "base_uri": "https://localhost:8080/",
          "height": 293
        },
        "id": "mnW7L6Pq-yzD",
        "outputId": "e9e39ca8-47f2-4709-903e-a7dee5227ff0"
      },
      "id": "mnW7L6Pq-yzD",
      "execution_count": 12,
      "outputs": [
        {
          "output_type": "execute_result",
          "data": {
            "text/plain": [
              "       hashid                                              title  \\\n",
              "0  zdw0jrig-1  Redmi 12 5G will be a game-changer for 5G conn...   \n",
              "1  y5pfnbmp-1  Limited seats left for Hero Vired & MIT’s Prog...   \n",
              "2  eo2eyhgk-1  Heavy to very heavy rainfall warning issued fo...   \n",
              "3  fknyydal-1  Which 14 teams have qualified for 20-team T20 ...   \n",
              "4  61ogen4w-1  42-year-old woman shot dead near her house in ...   \n",
              "\n",
              "                                             content newsType  \\\n",
              "0  Xiaomi will debut Redmi 12 5G alongside Redmi ...     NEWS   \n",
              "1  Hero Group's EdTech company Hero Vired & MIT l...     NEWS   \n",
              "2  IMD has issued heavy to very heavy rainfall wa...     NEWS   \n",
              "3  Ireland and Scotland have qualified for the 20...     NEWS   \n",
              "4  A 42-year-old woman was shot dead near her hou...     NEWS   \n",
              "\n",
              "                     author  categories                 createdAt  \\\n",
              "0  593f9d1f81ef171ab3b63a2d  technology  2023-07-27T07:06:41.000Z   \n",
              "1  593f9d1f81ef171ab3b63a2d   education  2023-07-27T04:30:50.000Z   \n",
              "2  5f70de9bd43821580e6d7022    national  2023-07-27T16:23:53.000Z   \n",
              "3  5f70de9bd43821580e6d7022      sports  2023-07-27T14:29:59.000Z   \n",
              "4  5f70de9bd43821580e6d7022    national  2023-07-27T17:07:31.000Z   \n",
              "\n",
              "                  updatedAt newsLanguage sourceName  \n",
              "0  2023-07-27T07:06:41.000Z      english     Xiaomi  \n",
              "1  2023-07-27T04:30:50.000Z      english  vired.com  \n",
              "2  2023-07-27T17:12:11.285Z      english        IMD  \n",
              "3  2023-07-27T14:29:59.000Z      english        ICC  \n",
              "4  2023-07-27T17:07:31.000Z      english        ABP  "
            ],
            "text/html": [
              "\n",
              "  <div id=\"df-b2fa33eb-4b92-48bd-ac90-154182ba1c32\" class=\"colab-df-container\">\n",
              "    <div>\n",
              "<style scoped>\n",
              "    .dataframe tbody tr th:only-of-type {\n",
              "        vertical-align: middle;\n",
              "    }\n",
              "\n",
              "    .dataframe tbody tr th {\n",
              "        vertical-align: top;\n",
              "    }\n",
              "\n",
              "    .dataframe thead th {\n",
              "        text-align: right;\n",
              "    }\n",
              "</style>\n",
              "<table border=\"1\" class=\"dataframe\">\n",
              "  <thead>\n",
              "    <tr style=\"text-align: right;\">\n",
              "      <th></th>\n",
              "      <th>hashid</th>\n",
              "      <th>title</th>\n",
              "      <th>content</th>\n",
              "      <th>newsType</th>\n",
              "      <th>author</th>\n",
              "      <th>categories</th>\n",
              "      <th>createdAt</th>\n",
              "      <th>updatedAt</th>\n",
              "      <th>newsLanguage</th>\n",
              "      <th>sourceName</th>\n",
              "    </tr>\n",
              "  </thead>\n",
              "  <tbody>\n",
              "    <tr>\n",
              "      <th>0</th>\n",
              "      <td>zdw0jrig-1</td>\n",
              "      <td>Redmi 12 5G will be a game-changer for 5G conn...</td>\n",
              "      <td>Xiaomi will debut Redmi 12 5G alongside Redmi ...</td>\n",
              "      <td>NEWS</td>\n",
              "      <td>593f9d1f81ef171ab3b63a2d</td>\n",
              "      <td>technology</td>\n",
              "      <td>2023-07-27T07:06:41.000Z</td>\n",
              "      <td>2023-07-27T07:06:41.000Z</td>\n",
              "      <td>english</td>\n",
              "      <td>Xiaomi</td>\n",
              "    </tr>\n",
              "    <tr>\n",
              "      <th>1</th>\n",
              "      <td>y5pfnbmp-1</td>\n",
              "      <td>Limited seats left for Hero Vired &amp; MIT’s Prog...</td>\n",
              "      <td>Hero Group's EdTech company Hero Vired &amp; MIT l...</td>\n",
              "      <td>NEWS</td>\n",
              "      <td>593f9d1f81ef171ab3b63a2d</td>\n",
              "      <td>education</td>\n",
              "      <td>2023-07-27T04:30:50.000Z</td>\n",
              "      <td>2023-07-27T04:30:50.000Z</td>\n",
              "      <td>english</td>\n",
              "      <td>vired.com</td>\n",
              "    </tr>\n",
              "    <tr>\n",
              "      <th>2</th>\n",
              "      <td>eo2eyhgk-1</td>\n",
              "      <td>Heavy to very heavy rainfall warning issued fo...</td>\n",
              "      <td>IMD has issued heavy to very heavy rainfall wa...</td>\n",
              "      <td>NEWS</td>\n",
              "      <td>5f70de9bd43821580e6d7022</td>\n",
              "      <td>national</td>\n",
              "      <td>2023-07-27T16:23:53.000Z</td>\n",
              "      <td>2023-07-27T17:12:11.285Z</td>\n",
              "      <td>english</td>\n",
              "      <td>IMD</td>\n",
              "    </tr>\n",
              "    <tr>\n",
              "      <th>3</th>\n",
              "      <td>fknyydal-1</td>\n",
              "      <td>Which 14 teams have qualified for 20-team T20 ...</td>\n",
              "      <td>Ireland and Scotland have qualified for the 20...</td>\n",
              "      <td>NEWS</td>\n",
              "      <td>5f70de9bd43821580e6d7022</td>\n",
              "      <td>sports</td>\n",
              "      <td>2023-07-27T14:29:59.000Z</td>\n",
              "      <td>2023-07-27T14:29:59.000Z</td>\n",
              "      <td>english</td>\n",
              "      <td>ICC</td>\n",
              "    </tr>\n",
              "    <tr>\n",
              "      <th>4</th>\n",
              "      <td>61ogen4w-1</td>\n",
              "      <td>42-year-old woman shot dead near her house in ...</td>\n",
              "      <td>A 42-year-old woman was shot dead near her hou...</td>\n",
              "      <td>NEWS</td>\n",
              "      <td>5f70de9bd43821580e6d7022</td>\n",
              "      <td>national</td>\n",
              "      <td>2023-07-27T17:07:31.000Z</td>\n",
              "      <td>2023-07-27T17:07:31.000Z</td>\n",
              "      <td>english</td>\n",
              "      <td>ABP</td>\n",
              "    </tr>\n",
              "  </tbody>\n",
              "</table>\n",
              "</div>\n",
              "    <div class=\"colab-df-buttons\">\n",
              "\n",
              "  <div class=\"colab-df-container\">\n",
              "    <button class=\"colab-df-convert\" onclick=\"convertToInteractive('df-b2fa33eb-4b92-48bd-ac90-154182ba1c32')\"\n",
              "            title=\"Convert this dataframe to an interactive table.\"\n",
              "            style=\"display:none;\">\n",
              "\n",
              "  <svg xmlns=\"http://www.w3.org/2000/svg\" height=\"24px\" viewBox=\"0 -960 960 960\">\n",
              "    <path d=\"M120-120v-720h720v720H120Zm60-500h600v-160H180v160Zm220 220h160v-160H400v160Zm0 220h160v-160H400v160ZM180-400h160v-160H180v160Zm440 0h160v-160H620v160ZM180-180h160v-160H180v160Zm440 0h160v-160H620v160Z\"/>\n",
              "  </svg>\n",
              "    </button>\n",
              "\n",
              "  <style>\n",
              "    .colab-df-container {\n",
              "      display:flex;\n",
              "      gap: 12px;\n",
              "    }\n",
              "\n",
              "    .colab-df-convert {\n",
              "      background-color: #E8F0FE;\n",
              "      border: none;\n",
              "      border-radius: 50%;\n",
              "      cursor: pointer;\n",
              "      display: none;\n",
              "      fill: #1967D2;\n",
              "      height: 32px;\n",
              "      padding: 0 0 0 0;\n",
              "      width: 32px;\n",
              "    }\n",
              "\n",
              "    .colab-df-convert:hover {\n",
              "      background-color: #E2EBFA;\n",
              "      box-shadow: 0px 1px 2px rgba(60, 64, 67, 0.3), 0px 1px 3px 1px rgba(60, 64, 67, 0.15);\n",
              "      fill: #174EA6;\n",
              "    }\n",
              "\n",
              "    .colab-df-buttons div {\n",
              "      margin-bottom: 4px;\n",
              "    }\n",
              "\n",
              "    [theme=dark] .colab-df-convert {\n",
              "      background-color: #3B4455;\n",
              "      fill: #D2E3FC;\n",
              "    }\n",
              "\n",
              "    [theme=dark] .colab-df-convert:hover {\n",
              "      background-color: #434B5C;\n",
              "      box-shadow: 0px 1px 3px 1px rgba(0, 0, 0, 0.15);\n",
              "      filter: drop-shadow(0px 1px 2px rgba(0, 0, 0, 0.3));\n",
              "      fill: #FFFFFF;\n",
              "    }\n",
              "  </style>\n",
              "\n",
              "    <script>\n",
              "      const buttonEl =\n",
              "        document.querySelector('#df-b2fa33eb-4b92-48bd-ac90-154182ba1c32 button.colab-df-convert');\n",
              "      buttonEl.style.display =\n",
              "        google.colab.kernel.accessAllowed ? 'block' : 'none';\n",
              "\n",
              "      async function convertToInteractive(key) {\n",
              "        const element = document.querySelector('#df-b2fa33eb-4b92-48bd-ac90-154182ba1c32');\n",
              "        const dataTable =\n",
              "          await google.colab.kernel.invokeFunction('convertToInteractive',\n",
              "                                                    [key], {});\n",
              "        if (!dataTable) return;\n",
              "\n",
              "        const docLinkHtml = 'Like what you see? Visit the ' +\n",
              "          '<a target=\"_blank\" href=https://colab.research.google.com/notebooks/data_table.ipynb>data table notebook</a>'\n",
              "          + ' to learn more about interactive tables.';\n",
              "        element.innerHTML = '';\n",
              "        dataTable['output_type'] = 'display_data';\n",
              "        await google.colab.output.renderOutput(dataTable, element);\n",
              "        const docLink = document.createElement('div');\n",
              "        docLink.innerHTML = docLinkHtml;\n",
              "        element.appendChild(docLink);\n",
              "      }\n",
              "    </script>\n",
              "  </div>\n",
              "\n",
              "\n",
              "    <div id=\"df-ef58652b-8a3a-49b8-9a9d-07a903bc947e\">\n",
              "      <button class=\"colab-df-quickchart\" onclick=\"quickchart('df-ef58652b-8a3a-49b8-9a9d-07a903bc947e')\"\n",
              "                title=\"Suggest charts\"\n",
              "                style=\"display:none;\">\n",
              "\n",
              "<svg xmlns=\"http://www.w3.org/2000/svg\" height=\"24px\"viewBox=\"0 0 24 24\"\n",
              "     width=\"24px\">\n",
              "    <g>\n",
              "        <path d=\"M19 3H5c-1.1 0-2 .9-2 2v14c0 1.1.9 2 2 2h14c1.1 0 2-.9 2-2V5c0-1.1-.9-2-2-2zM9 17H7v-7h2v7zm4 0h-2V7h2v10zm4 0h-2v-4h2v4z\"/>\n",
              "    </g>\n",
              "</svg>\n",
              "      </button>\n",
              "\n",
              "<style>\n",
              "  .colab-df-quickchart {\n",
              "      --bg-color: #E8F0FE;\n",
              "      --fill-color: #1967D2;\n",
              "      --hover-bg-color: #E2EBFA;\n",
              "      --hover-fill-color: #174EA6;\n",
              "      --disabled-fill-color: #AAA;\n",
              "      --disabled-bg-color: #DDD;\n",
              "  }\n",
              "\n",
              "  [theme=dark] .colab-df-quickchart {\n",
              "      --bg-color: #3B4455;\n",
              "      --fill-color: #D2E3FC;\n",
              "      --hover-bg-color: #434B5C;\n",
              "      --hover-fill-color: #FFFFFF;\n",
              "      --disabled-bg-color: #3B4455;\n",
              "      --disabled-fill-color: #666;\n",
              "  }\n",
              "\n",
              "  .colab-df-quickchart {\n",
              "    background-color: var(--bg-color);\n",
              "    border: none;\n",
              "    border-radius: 50%;\n",
              "    cursor: pointer;\n",
              "    display: none;\n",
              "    fill: var(--fill-color);\n",
              "    height: 32px;\n",
              "    padding: 0;\n",
              "    width: 32px;\n",
              "  }\n",
              "\n",
              "  .colab-df-quickchart:hover {\n",
              "    background-color: var(--hover-bg-color);\n",
              "    box-shadow: 0 1px 2px rgba(60, 64, 67, 0.3), 0 1px 3px 1px rgba(60, 64, 67, 0.15);\n",
              "    fill: var(--button-hover-fill-color);\n",
              "  }\n",
              "\n",
              "  .colab-df-quickchart-complete:disabled,\n",
              "  .colab-df-quickchart-complete:disabled:hover {\n",
              "    background-color: var(--disabled-bg-color);\n",
              "    fill: var(--disabled-fill-color);\n",
              "    box-shadow: none;\n",
              "  }\n",
              "\n",
              "  .colab-df-spinner {\n",
              "    border: 2px solid var(--fill-color);\n",
              "    border-color: transparent;\n",
              "    border-bottom-color: var(--fill-color);\n",
              "    animation:\n",
              "      spin 1s steps(1) infinite;\n",
              "  }\n",
              "\n",
              "  @keyframes spin {\n",
              "    0% {\n",
              "      border-color: transparent;\n",
              "      border-bottom-color: var(--fill-color);\n",
              "      border-left-color: var(--fill-color);\n",
              "    }\n",
              "    20% {\n",
              "      border-color: transparent;\n",
              "      border-left-color: var(--fill-color);\n",
              "      border-top-color: var(--fill-color);\n",
              "    }\n",
              "    30% {\n",
              "      border-color: transparent;\n",
              "      border-left-color: var(--fill-color);\n",
              "      border-top-color: var(--fill-color);\n",
              "      border-right-color: var(--fill-color);\n",
              "    }\n",
              "    40% {\n",
              "      border-color: transparent;\n",
              "      border-right-color: var(--fill-color);\n",
              "      border-top-color: var(--fill-color);\n",
              "    }\n",
              "    60% {\n",
              "      border-color: transparent;\n",
              "      border-right-color: var(--fill-color);\n",
              "    }\n",
              "    80% {\n",
              "      border-color: transparent;\n",
              "      border-right-color: var(--fill-color);\n",
              "      border-bottom-color: var(--fill-color);\n",
              "    }\n",
              "    90% {\n",
              "      border-color: transparent;\n",
              "      border-bottom-color: var(--fill-color);\n",
              "    }\n",
              "  }\n",
              "</style>\n",
              "\n",
              "      <script>\n",
              "        async function quickchart(key) {\n",
              "          const quickchartButtonEl =\n",
              "            document.querySelector('#' + key + ' button');\n",
              "          quickchartButtonEl.disabled = true;  // To prevent multiple clicks.\n",
              "          quickchartButtonEl.classList.add('colab-df-spinner');\n",
              "          try {\n",
              "            const charts = await google.colab.kernel.invokeFunction(\n",
              "                'suggestCharts', [key], {});\n",
              "          } catch (error) {\n",
              "            console.error('Error during call to suggestCharts:', error);\n",
              "          }\n",
              "          quickchartButtonEl.classList.remove('colab-df-spinner');\n",
              "          quickchartButtonEl.classList.add('colab-df-quickchart-complete');\n",
              "        }\n",
              "        (() => {\n",
              "          let quickchartButtonEl =\n",
              "            document.querySelector('#df-ef58652b-8a3a-49b8-9a9d-07a903bc947e button');\n",
              "          quickchartButtonEl.style.display =\n",
              "            google.colab.kernel.accessAllowed ? 'block' : 'none';\n",
              "        })();\n",
              "      </script>\n",
              "    </div>\n",
              "\n",
              "    </div>\n",
              "  </div>\n"
            ],
            "application/vnd.google.colaboratory.intrinsic+json": {
              "type": "dataframe",
              "variable_name": "df_test",
              "summary": "{\n  \"name\": \"df_test\",\n  \"rows\": 1346,\n  \"fields\": [\n    {\n      \"column\": \"hashid\",\n      \"properties\": {\n        \"dtype\": \"string\",\n        \"num_unique_values\": 1346,\n        \"samples\": [\n          \"xjint5nx-1\",\n          \"cfuf6z43-1\",\n          \"c9tphjiu-1\"\n        ],\n        \"semantic_type\": \"\",\n        \"description\": \"\"\n      }\n    },\n    {\n      \"column\": \"title\",\n      \"properties\": {\n        \"dtype\": \"string\",\n        \"num_unique_values\": 1212,\n        \"samples\": [\n          \"NCLT refuses to restrain Go First from using leased aircraft GoFirstBankruptcy\",\n          \"No-confidence motion against government accepted by Lok Sabha Speaker Om Birla NoConfidenceMotion\",\n          \"\\u0905\\u092e\\u0947\\u0930\\u093f\\u0915\\u093e \\u0915\\u0947 \\u092a\\u093e\\u0938 \\u0939\\u0948\\u0902 \\u092f\\u0942\\u090f\\u092b\\u0913 \\u0914\\u0930 \\u0917\\u0948\\u0930-\\u092e\\u093e\\u0928\\u0935\\u0940\\u092f \\u091c\\u0940\\u0935 \\u0905\\u0935\\u0936\\u0947\\u0937: \\u092a\\u0942\\u0930\\u094d\\u0935 \\u0905\\u092e\\u0947\\u0930\\u093f\\u0915\\u0940 \\u0916\\u0941\\u092b\\u093f\\u092f\\u093e \\u0905\\u0927\\u093f\\u0915\\u093e\\u0930\\u0940 \"\n        ],\n        \"semantic_type\": \"\",\n        \"description\": \"\"\n      }\n    },\n    {\n      \"column\": \"content\",\n      \"properties\": {\n        \"dtype\": \"string\",\n        \"num_unique_values\": 1207,\n        \"samples\": [\n          \"Singer Camila Cabello has shared pictures of her looking at Lionel Messi and meeting Inter Miami co-owner David Beckham during Miami's match against Atlanta United. Messi can be seen smiling at Cabello in one of the pictures. \\\"Fan girl mode was...unlocked when I saw Messi - obviously the GOAT, but also so kind and generous with his energy,\\\" Cabello stated.\",\n          \"AI Wrap Up: Google's Brain2Music, Dave Willner joins OpenAI and some more news.\",\n          \"\\u092a\\u093e\\u0915\\u093f\\u0938\\u094d\\u0924\\u093e\\u0928 \\u092e\\u0947\\u0902 \\u0905\\u092a\\u0928\\u0947 \\u092b\\u0947\\u0938\\u092c\\u0941\\u0915 \\u0926\\u094b\\u0938\\u094d\\u0924 \\u0928\\u0938\\u0930\\u0941\\u0932\\u094d\\u0932\\u093e\\u0939 \\u0938\\u0947 \\u092e\\u093f\\u0932\\u0928\\u0947 \\u0917\\u0908 \\u0905\\u0902\\u091c\\u0942 \\u0915\\u0947 \\u092a\\u0924\\u093f \\u0905\\u0930\\u0935\\u093f\\u0902\\u0926 '\\u0928\\u094d\\u092f\\u0942\\u091c\\u093c 18' \\u0938\\u0947 \\u092c\\u093e\\u0924\\u091a\\u0940\\u0924 \\u0915\\u0930\\u0924\\u0947 \\u0939\\u0941\\u090f \\u092d\\u093e\\u0935\\u0941\\u0915 \\u0939\\u094b \\u0917\\u090f\\u0964 \\u0909\\u0928\\u094d\\u0939\\u094b\\u0902\\u0928\\u0947 \\u092c\\u0924\\u093e\\u092f\\u093e, \\\"\\u0935\\u0939 \\u0939\\u092e\\u0947\\u0902 \\u0915\\u0941\\u091b \\u092d\\u0940 \\u092c\\u0924\\u093e\\u0915\\u0930 \\u0928\\u0939\\u0940\\u0902 \\u0917\\u0908 \\u0914\\u0930 \\u0909\\u0938\\u0928\\u0947 \\u0939\\u092e\\u0938\\u0947 \\u091d\\u0942\\u0920 \\u092c\\u094b\\u0932\\u093e, \\u0905\\u092c \\u0909\\u0938\\u0938\\u0947 \\u0930\\u093f\\u0936\\u094d\\u0924\\u093e \\u0916\\u0924\\u094d\\u092e \\u0939\\u0948 \\u0914\\u0930 \\u092c\\u091a\\u094d\\u091a\\u0947 \\u092d\\u0940 \\u0907\\u0938\\u0915\\u0947 \\u0932\\u093f\\u090f \\u0924\\u0948\\u092f\\u093e\\u0930 \\u0939\\u0948\\u0902\\u0964\\\" \\u0909\\u0928\\u094d\\u0939\\u094b\\u0902\\u0928\\u0947 \\u0915\\u0939\\u093e, \\\"\\u092e\\u0941\\u091d\\u0947 \\u0930\\u093f\\u0936\\u094d\\u0924\\u0947 \\u092e\\u0947\\u0902 \\u0927\\u094b\\u0916\\u093e \\u092e\\u093f\\u0932\\u093e, \\u0909\\u0938\\u0928\\u0947 \\u092e\\u0947\\u0930\\u093e \\u0926\\u093f\\u0932 \\u0924\\u094b\\u0921\\u093c \\u0926\\u093f\\u092f\\u093e\\u0964\\\"\"\n        ],\n        \"semantic_type\": \"\",\n        \"description\": \"\"\n      }\n    },\n    {\n      \"column\": \"newsType\",\n      \"properties\": {\n        \"dtype\": \"category\",\n        \"num_unique_values\": 2,\n        \"samples\": [\n          \"VIDEO_NEWS\",\n          \"NEWS\"\n        ],\n        \"semantic_type\": \"\",\n        \"description\": \"\"\n      }\n    },\n    {\n      \"column\": \"author\",\n      \"properties\": {\n        \"dtype\": \"category\",\n        \"num_unique_values\": 60,\n        \"samples\": [\n          \"593f9d1f81ef171ab3b63a2d\",\n          \"5f70e895573ea2734e386297\"\n        ],\n        \"semantic_type\": \"\",\n        \"description\": \"\"\n      }\n    },\n    {\n      \"column\": \"categories\",\n      \"properties\": {\n        \"dtype\": \"category\",\n        \"num_unique_values\": 48,\n        \"samples\": [\n          \"sports,Asian_Games_2022\",\n          \"entertainment,fashion\"\n        ],\n        \"semantic_type\": \"\",\n        \"description\": \"\"\n      }\n    },\n    {\n      \"column\": \"createdAt\",\n      \"properties\": {\n        \"dtype\": \"object\",\n        \"num_unique_values\": 1204,\n        \"samples\": [\n          \"2023-07-27T10:34:28.000Z\",\n          \"2023-07-26T12:12:10.000Z\"\n        ],\n        \"semantic_type\": \"\",\n        \"description\": \"\"\n      }\n    },\n    {\n      \"column\": \"updatedAt\",\n      \"properties\": {\n        \"dtype\": \"object\",\n        \"num_unique_values\": 1227,\n        \"samples\": [\n          \"2023-07-27T10:21:20.000Z\",\n          \"2023-07-26T12:08:01.000Z\"\n        ],\n        \"semantic_type\": \"\",\n        \"description\": \"\"\n      }\n    },\n    {\n      \"column\": \"newsLanguage\",\n      \"properties\": {\n        \"dtype\": \"category\",\n        \"num_unique_values\": 5,\n        \"samples\": [\n          \"hindi\",\n          \"kannada\"\n        ],\n        \"semantic_type\": \"\",\n        \"description\": \"\"\n      }\n    },\n    {\n      \"column\": \"sourceName\",\n      \"properties\": {\n        \"dtype\": \"category\",\n        \"num_unique_values\": 173,\n        \"samples\": [\n          \"Divya Bhaskar\",\n          \"CNBCTV18\"\n        ],\n        \"semantic_type\": \"\",\n        \"description\": \"\"\n      }\n    }\n  ]\n}"
            }
          },
          "metadata": {},
          "execution_count": 12
        }
      ]
    },
    {
      "cell_type": "code",
      "execution_count": 13,
      "id": "258f5812-ce91-45a7-89a0-097bf79453bd",
      "metadata": {
        "id": "258f5812-ce91-45a7-89a0-097bf79453bd"
      },
      "outputs": [],
      "source": [
        "# Load Trained Model and Data\n",
        "\n",
        "model_path = \"/content/drive/MyDrive/Companies Interview Projects/InShorts/model/two_tower_mnr_best.pth\"\n",
        "\n",
        "# Assuming your model class is named TwoTowerModel\n",
        "model = TwoTowerModel(user_input_dim, news_input_dim, embed_dim)\n",
        "model.load_state_dict(torch.load(model_path, map_location=device))\n",
        "model.to(device)\n",
        "model.eval()\n",
        "\n",
        "# Load your user and news data (pickles or CSV)\n",
        "user_df = pd.read_pickle(\"/content/drive/MyDrive/Companies Interview Projects/InShorts/cleaned_data/user_embed_df.pkl\")\n",
        "news_df = pd.read_pickle(\"/content/drive/MyDrive/Companies Interview Projects/InShorts/cleaned_data/test_news_embed_df.pkl\")"
      ]
    },
    {
      "cell_type": "code",
      "source": [
        "# Generate News Embeddings\n",
        "\n",
        "def get_news_embeddings(news_df, model, device):\n",
        "    \"\"\"Generate embeddings for all news using the news tower.\"\"\"\n",
        "    model.eval()\n",
        "    news_embeddings = []\n",
        "\n",
        "    for i in tqdm(range(len(news_df))):\n",
        "        # Assuming news_embed column contains numpy arrays\n",
        "        if 'news_embed' in news_df.columns:\n",
        "            vec = torch.tensor(news_df.iloc[i]['news_embed'], dtype=torch.float32).unsqueeze(0).to(device)\n",
        "        else:\n",
        "            # If you have raw text, plug in your text encoder here (e.g. SentenceTransformer)\n",
        "            raise ValueError(\"news_embed column or encoder not found!\")\n",
        "\n",
        "        with torch.no_grad():\n",
        "            emb = model.news_tower(vec)\n",
        "        news_embeddings.append(emb.cpu().numpy().squeeze())\n",
        "\n",
        "    return np.stack(news_embeddings)\n",
        "\n",
        "# Generate all news embeddings\n",
        "news_embeddings = get_news_embeddings(news_df, model, device)\n",
        "news_df[\"news_embedding\"] = list(news_embeddings)"
      ],
      "metadata": {
        "colab": {
          "base_uri": "https://localhost:8080/"
        },
        "id": "lSJOPpJwFz1P",
        "outputId": "6a51206f-66ea-40eb-ae80-5e263b420267"
      },
      "id": "lSJOPpJwFz1P",
      "execution_count": 14,
      "outputs": [
        {
          "output_type": "stream",
          "name": "stderr",
          "text": [
            "100%|██████████| 1346/1346 [00:00<00:00, 3683.35it/s]\n"
          ]
        }
      ]
    },
    {
      "cell_type": "code",
      "source": [
        "# Generate Final User Embeddings\n",
        "def get_user_embeddings(user_df, model, device):\n",
        "    \"\"\"Generate final user tower embeddings.\"\"\"\n",
        "    model.eval()\n",
        "    user_embeddings = []\n",
        "\n",
        "    for i in tqdm(range(len(user_df))):\n",
        "        if 'user_embed' in user_df.columns:\n",
        "            vec = torch.tensor(user_df.iloc[i]['user_embed'], dtype=torch.float32).unsqueeze(0).to(device)\n",
        "        else:\n",
        "            raise ValueError(\"user_embed column not found!\")\n",
        "\n",
        "        with torch.no_grad():\n",
        "            emb = model.user_tower(vec)\n",
        "        user_embeddings.append(emb.cpu().numpy().squeeze())\n",
        "\n",
        "    return np.stack(user_embeddings)\n",
        "\n",
        "\n",
        "# Generate final user embeddings\n",
        "user_embeddings = get_user_embeddings(user_df, model, device)\n",
        "user_df[\"final_user_embed\"] = list(user_embeddings)\n",
        "\n",
        "print(\"✅ Generated user tower embeddings:\", user_df.shape)\n",
        "print(\"✅ Generated news tower embeddings:\", news_df.shape)"
      ],
      "metadata": {
        "colab": {
          "base_uri": "https://localhost:8080/"
        },
        "id": "gpwbuiNvS4pr",
        "outputId": "d6566676-fd3d-4438-a6a7-c715d9e5aca6"
      },
      "id": "gpwbuiNvS4pr",
      "execution_count": 15,
      "outputs": [
        {
          "output_type": "stream",
          "name": "stderr",
          "text": [
            "100%|██████████| 10400/10400 [00:02<00:00, 4102.37it/s]\n"
          ]
        },
        {
          "output_type": "stream",
          "name": "stdout",
          "text": [
            "✅ Generated user tower embeddings: (10400, 3)\n",
            "✅ Generated news tower embeddings: (1346, 3)\n"
          ]
        }
      ]
    },
    {
      "cell_type": "code",
      "source": [
        "# Compute Similarity Scores (Dot Product)\n",
        "\n",
        "from sklearn.metrics.pairwise import cosine_similarity\n",
        "\n",
        "# Convert list of embeddings to numpy arrays\n",
        "user_matrix = np.stack(user_df[\"final_user_embed\"].values)\n",
        "news_matrix = np.stack(news_df[\"news_embedding\"].values)\n",
        "\n",
        "# Compute cosine similarity (U x N matrix)\n",
        "similarity_matrix = cosine_similarity(user_matrix, news_matrix)\n",
        "\n",
        "print(f\"✅ Similarity matrix shape: {similarity_matrix.shape}\")"
      ],
      "metadata": {
        "colab": {
          "base_uri": "https://localhost:8080/"
        },
        "id": "4ke5Z8apTAih",
        "outputId": "c4264fe5-63ce-413d-8fa6-bba41ca93b74"
      },
      "id": "4ke5Z8apTAih",
      "execution_count": 16,
      "outputs": [
        {
          "output_type": "stream",
          "name": "stdout",
          "text": [
            "✅ Similarity matrix shape: (10400, 1346)\n"
          ]
        }
      ]
    },
    {
      "cell_type": "code",
      "source": [
        "# Generate Top-K Recommendations\n",
        "\n",
        "top_k = 5  # number of news articles to recommend per user\n",
        "\n",
        "recommendations = []\n",
        "for user_idx, user_id in enumerate(user_df[\"deviceId\"].values):\n",
        "    top_indices = np.argsort(similarity_matrix[user_idx])[::-1][:top_k]\n",
        "    top_news_ids = news_df.iloc[top_indices][\"hashId\"].values\n",
        "    recommendations.append({\"deviceId\": user_id, \"recommended_news\": top_news_ids})\n",
        "\n",
        "recommendations_df = pd.DataFrame(recommendations)\n",
        "print(\"✅ Recommendations ready!\")\n",
        "print(recommendations_df.head())\n",
        "\n",
        "# Optional: Save to disk\n",
        "recommendations_df.to_pickle(\n",
        "    \"/content/drive/MyDrive/Companies Interview Projects/InShorts/recommendations_df.pkl\"\n",
        ")\n",
        "print(\"✅ Saved recommendations to pickle file!\")"
      ],
      "metadata": {
        "colab": {
          "base_uri": "https://localhost:8080/"
        },
        "id": "lh62edB6TKcm",
        "outputId": "60bd5294-e04b-4ad6-fbbc-54262a34b90d"
      },
      "id": "lh62edB6TKcm",
      "execution_count": null,
      "outputs": [
        {
          "output_type": "stream",
          "name": "stdout",
          "text": [
            "✅ Recommendations ready!\n",
            "                               deviceId  \\\n",
            "0  197b123e-eb9e-4fc1-a32d-aa86aaea425e   \n",
            "1  3c33c537-7c6c-40f5-835c-f997e883cae2   \n",
            "2  6c7be5d0-d4d8-469f-91be-8055021ceef9   \n",
            "3  0801af66-0a6f-4fdd-82a9-c2b15757b8f5   \n",
            "4  78b3c7a7-5881-42dc-9f8e-b4fc27f94360   \n",
            "\n",
            "                                    recommended_news  \n",
            "0  [xrykhbnc-1, 6njg1tj7-1, qimljpxb-1, cyd0ierx-...  \n",
            "1  [xrykhbnc-1, 6njg1tj7-1, qimljpxb-1, cyd0ierx-...  \n",
            "2  [6njg1tj7-1, xrykhbnc-1, a1xswwcm-1, umg31ldy-...  \n",
            "3  [xrykhbnc-1, n9lyehhv-1, 6njg1tj7-1, 5zxzuwaa-...  \n",
            "4  [xrykhbnc-1, cyd0ierx-1, 6njg1tj7-1, qimljpxb-...  \n",
            "✅ Saved recommendations to pickle file!\n"
          ]
        }
      ]
    },
    {
      "cell_type": "markdown",
      "source": [
        "## Implementing New Architectute - Sequential Model"
      ],
      "metadata": {
        "id": "DGYwgcQdWlvn"
      },
      "id": "DGYwgcQdWlvn"
    },
    {
      "cell_type": "code",
      "source": [
        "def generate_candidates(user_df, news_df, similarity_matrix, top_k=50):\n",
        "    \"\"\"\n",
        "    Generate top-K news recommendations for each user based on similarity.\n",
        "    Returns a candidate dataframe ready for Content-Based filtering.\n",
        "    \"\"\"\n",
        "    recommendations = []\n",
        "    for user_idx, user_id in enumerate(user_df[\"deviceId\"].values):\n",
        "        # Get top-K most similar news articles\n",
        "        top_indices = np.argsort(similarity_matrix[user_idx])[::-1][:top_k]\n",
        "        top_news = news_df.iloc[top_indices].copy()\n",
        "\n",
        "        # Add metadata for re-ranking\n",
        "        top_news[\"deviceId\"] = user_id\n",
        "        top_news[\"two_tower_score\"] = similarity_matrix[user_idx][top_indices]\n",
        "\n",
        "        recommendations.append(top_news)\n",
        "\n",
        "    # Merge all user recommendations into one dataframe\n",
        "    candidates_df = pd.concat(recommendations, ignore_index=True)\n",
        "    return candidates_df\n",
        "\n",
        "# Generate candidate pool\n",
        "candidates_df = generate_candidates(user_df, news_df, similarity_matrix, top_k=25)\n",
        "print(f\"✅ Candidate pool shape: {candidates_df.shape}\")\n",
        "\n",
        "# ---------------------------------------------\n",
        "# STEP 5: Save Candidate Pool\n",
        "# ---------------------------------------------\n",
        "candidates_df.to_pickle(\"/content/drive/MyDrive/Companies Interview Projects/InShorts/recommendation/candidates_df.pkl\")\n",
        "print(\"✅ Saved Two-Tower candidate pool!\")"
      ],
      "metadata": {
        "colab": {
          "base_uri": "https://localhost:8080/"
        },
        "id": "4jcKy51-llEg",
        "outputId": "90a51025-08c6-43b8-c3a0-6cc98d90fff2"
      },
      "id": "4jcKy51-llEg",
      "execution_count": 17,
      "outputs": [
        {
          "output_type": "stream",
          "name": "stdout",
          "text": [
            "✅ Candidate pool shape: (520000, 5)\n",
            "✅ Saved Two-Tower candidate pool!\n"
          ]
        }
      ]
    },
    {
      "cell_type": "code",
      "source": [
        "candidates_df.columns"
      ],
      "metadata": {
        "colab": {
          "base_uri": "https://localhost:8080/"
        },
        "id": "uSdz8944nvwN",
        "outputId": "1acc4951-4b58-4e10-a0f7-b8b7bd2cd26f"
      },
      "id": "uSdz8944nvwN",
      "execution_count": 18,
      "outputs": [
        {
          "output_type": "execute_result",
          "data": {
            "text/plain": [
              "Index(['hashId', 'news_embed', 'news_embedding', 'deviceId',\n",
              "       'two_tower_score'],\n",
              "      dtype='object')"
            ]
          },
          "metadata": {},
          "execution_count": 18
        }
      ]
    },
    {
      "cell_type": "code",
      "source": [
        "def rerank_user_cbf_with_history(user_id, user_embedding_df, user_history_df, candidates_df):\n",
        "    \"\"\"\n",
        "    Re-rank candidate news for a single user using semantic similarity with user embedding + history.\n",
        "\n",
        "    Args:\n",
        "        user_id (str): target user ID\n",
        "        user_embedding_df (pd.DataFrame): ['deviceId', 'final_user_embed']\n",
        "        user_history_df (pd.DataFrame): ['deviceId', 'user_history'] -> list of hashIds\n",
        "        candidates_df (pd.DataFrame): candidate news for the user ['hashId', 'news_embedding', 'two_tower_score']\n",
        "\n",
        "    Returns:\n",
        "        pd.DataFrame: re-ranked news for the user\n",
        "    \"\"\"\n",
        "    # --- 1️⃣ Get user embedding ---\n",
        "    try:\n",
        "        user_emb = np.array(user_embedding_df.loc[user_embedding_df[\"deviceId\"] == user_id, \"final_user_embed\"].values[0])\n",
        "    except IndexError:\n",
        "        return pd.DataFrame()\n",
        "\n",
        "    # --- 2️⃣ Aggregate user history embeddings ---\n",
        "    user_history_hashes = user_history_df.loc[user_history_df[\"deviceId\"] == user_id, \"user_history_embed\"].values\n",
        "    user_history_hashes = user_history_hashes[0] if len(user_history_hashes) > 0 else []\n",
        "\n",
        "    if len(user_history_hashes) > 0:\n",
        "        # Fetch embeddings of all news in user's history\n",
        "        history_embeddings = candidates_df.loc[\n",
        "            candidates_df[\"hashId\"].isin(user_history_hashes), \"news_embedding\"\n",
        "        ].values\n",
        "        if len(history_embeddings) > 0:\n",
        "            history_emb_matrix = np.vstack(history_embeddings)\n",
        "            history_emb_avg = history_emb_matrix.mean(axis=0)\n",
        "        else:\n",
        "            history_emb_avg = np.zeros_like(user_emb)\n",
        "    else:\n",
        "        history_emb_avg = np.zeros_like(user_emb)\n",
        "\n",
        "    # --- 3️⃣ Combine user embedding + history embedding ---\n",
        "    user_repr = user_emb + history_emb_avg\n",
        "\n",
        "    # --- 4️⃣ Compute semantic similarity with candidate news ---\n",
        "    news_embeds = np.vstack(candidates_df[\"news_embedding\"].values)\n",
        "    semantic_scores = cosine_similarity(user_repr.reshape(1, -1), news_embeds).flatten()\n",
        "\n",
        "    # --- 5️⃣ Prepare output ---\n",
        "    ranked_df = candidates_df.copy()\n",
        "    ranked_df[\"cbf_score\"] = semantic_scores\n",
        "    ranked_df[\"deviceId\"] = user_id\n",
        "    ranked_df = ranked_df.sort_values(\"cbf_score\", ascending=False).reset_index(drop=True)\n",
        "\n",
        "    return ranked_df[[\"deviceId\", \"hashId\", \"cbf_score\", \"two_tower_score\", \"news_embedding\"]]\n",
        "\n",
        "\n",
        "def rerank_all_users_cbf_with_history(user_embedding_df, user_history_df, candidates_df):\n",
        "    \"\"\"\n",
        "    Re-rank all users' candidate news using semantic similarity with user embedding + history.\n",
        "    Output is ready for collaborative filtering.\n",
        "    \"\"\"\n",
        "    all_ranked = []\n",
        "\n",
        "    for user_id in tqdm(user_embedding_df[\"deviceId\"].values, desc=\"Re-ranking users (Semantic + History)\"):\n",
        "        user_candidates = candidates_df[candidates_df[\"deviceId\"] == user_id].copy()\n",
        "        if user_candidates.empty:\n",
        "            continue\n",
        "\n",
        "        ranked_user_df = rerank_user_cbf_with_history(\n",
        "            user_id, user_embedding_df, user_history_df, user_candidates\n",
        "        )\n",
        "        if not ranked_user_df.empty:\n",
        "            all_ranked.append(ranked_user_df)\n",
        "\n",
        "    if not all_ranked:\n",
        "        print(\"⚠️ No valid users for CBF re-ranking.\")\n",
        "        return pd.DataFrame()\n",
        "\n",
        "    final_ranked_df = pd.concat(all_ranked, ignore_index=True)\n",
        "    print(f\"✅ Completed CBF re-ranking for {len(all_ranked)} users\")\n",
        "\n",
        "    return final_ranked_df"
      ],
      "metadata": {
        "id": "oTRxUsrArBIP"
      },
      "id": "oTRxUsrArBIP",
      "execution_count": 19,
      "outputs": []
    },
    {
      "cell_type": "code",
      "source": [
        "user_history_df = pd.read_pickle(\"/content/drive/MyDrive/Companies Interview Projects/InShorts/cleaned_data/user_history_df.pkl\")\n",
        "# --- Single user re-ranking ---\n",
        "# target_user = \"user_123\"\n",
        "# user_ranked = rerank_user_cbf(target_user, user_df, candidates_df, interaction_df)\n",
        "# print(user_ranked.head())\n",
        "\n",
        "# --- All users re-ranking ---\n",
        "all_ranked_df = rerank_all_users_cbf_with_history(user_df, user_history_df, candidates_df)\n",
        "print(all_ranked_df.head())\n",
        "\n",
        "# --- Save for CF ---\n",
        "all_ranked_df.to_pickle(\"/content/drive/MyDrive/Companies Interview Projects/InShorts/recommendation/cbf_ranked_history_df.pkl\")\n",
        "print(\"✅ Saved CBF re-ranked results for CF input!\")"
      ],
      "metadata": {
        "colab": {
          "base_uri": "https://localhost:8080/"
        },
        "id": "TkE0CJDVjW02",
        "outputId": "59c619eb-80db-470a-a766-179c441fbda5"
      },
      "id": "TkE0CJDVjW02",
      "execution_count": 20,
      "outputs": [
        {
          "output_type": "stream",
          "name": "stderr",
          "text": [
            "Re-ranking users (Semantic + History): 100%|██████████| 10400/10400 [10:40<00:00, 16.23it/s]\n"
          ]
        },
        {
          "output_type": "stream",
          "name": "stdout",
          "text": [
            "✅ Completed CBF re-ranking for 10400 users\n",
            "                               deviceId      hashId  cbf_score  \\\n",
            "0  197b123e-eb9e-4fc1-a32d-aa86aaea425e  vy7ltisw-1   0.161613   \n",
            "1  197b123e-eb9e-4fc1-a32d-aa86aaea425e  f0anwhqe-1   0.147531   \n",
            "2  197b123e-eb9e-4fc1-a32d-aa86aaea425e  unuesamp-1   0.122454   \n",
            "3  197b123e-eb9e-4fc1-a32d-aa86aaea425e  thddrrcb-1   0.110290   \n",
            "4  197b123e-eb9e-4fc1-a32d-aa86aaea425e  7ytneief-1   0.094316   \n",
            "\n",
            "   two_tower_score                                     news_embedding  \n",
            "0         0.161613  [-0.055830054, -0.004786246, 0.18996115, -0.10...  \n",
            "1         0.147531  [0.006855723, 0.07078499, 0.16596012, -0.02000...  \n",
            "2         0.122454  [0.040346295, 0.12023347, 0.106594406, -0.0427...  \n",
            "3         0.110290  [0.030789891, 0.06325052, 0.14818585, -0.11148...  \n",
            "4         0.094316  [-0.009286888, 0.06802614, 0.15023689, -0.0113...  \n",
            "✅ Saved CBF re-ranked results for CF input!\n"
          ]
        }
      ]
    },
    {
      "cell_type": "code",
      "source": [
        "#Evaluation\n",
        "\n",
        "def precision_at_k(recommended, relevant, k=5):\n",
        "    \"\"\"\n",
        "    Precision@K: Fraction of recommended items in top-K that are relevant.\n",
        "    \"\"\"\n",
        "    recommended_k = recommended[:k]\n",
        "    relevant_set = set(relevant)\n",
        "    hits = sum([1 for item in recommended_k if item in relevant_set])\n",
        "    return hits / k\n",
        "\n",
        "def recall_at_k(recommended, relevant, k=5):\n",
        "    \"\"\"\n",
        "    Recall@K: Fraction of relevant items that are recommended in top-K.\n",
        "    \"\"\"\n",
        "    recommended_k = recommended[:k]\n",
        "    relevant_set = set(relevant)\n",
        "    hits = sum([1 for item in recommended_k if item in relevant_set])\n",
        "    return hits / len(relevant_set) if len(relevant_set) > 0 else 0.0\n",
        "\n",
        "def average_precision_at_k(recommended, relevant, k=5):\n",
        "    \"\"\"\n",
        "    MAP@K: Mean of precision values at each relevant recommendation position.\n",
        "    \"\"\"\n",
        "    recommended_k = recommended[:k]\n",
        "    relevant_set = set(relevant)\n",
        "    hits = 0\n",
        "    sum_precisions = 0.0\n",
        "\n",
        "    for i, item in enumerate(recommended_k):\n",
        "        if item in relevant_set:\n",
        "            hits += 1\n",
        "            sum_precisions += hits / (i + 1)\n",
        "\n",
        "    return sum_precisions / min(len(relevant_set), k) if len(relevant_set) > 0 else 0.0\n",
        "\n",
        "# Example usage:\n",
        "# recommended_df: DataFrame with columns ['deviceId', 'recommended_news']\n",
        "# interaction_df: DataFrame with columns ['deviceId', 'hashId'] (ground truth interactions)\n",
        "\n",
        "k = 5\n",
        "precision_list = []\n",
        "recall_list = []\n",
        "map_list = []\n",
        "\n",
        "recommended_df = all_ranked_df.groupby('deviceId').apply(\n",
        "    lambda x: x.sort_values('cbf_score', ascending=False)['hashId'].tolist()\n",
        ").reset_index(name='recommended_news')\n",
        "\n",
        "interaction_df = pd.read_csv(\"/content/drive/MyDrive/Companies Interview Projects/InShorts/cleaned_data/interaction_cleaned_data.csv\")\n",
        "\n",
        "# Select 10 random deviceIds\n",
        "sample_device_ids = recommended_df['deviceId'].drop_duplicates().sample(10, random_state=42)\n",
        "\n",
        "# Filter the recommendations for those users\n",
        "sample_recommendations = recommended_df[recommended_df['deviceId'].isin(sample_device_ids)]\n",
        "\n",
        "for user_id in sample_recommendations['deviceId'].unique():\n",
        "    recommended_news = recommended_df[recommended_df['deviceId'] == user_id]['recommended_news'].values[0]\n",
        "    relevant_news = interaction_df[interaction_df['deviceId'] == user_id]['hashId'].tolist()\n",
        "\n",
        "    precision_list.append(precision_at_k(recommended_news, relevant_news, k))\n",
        "    recall_list.append(recall_at_k(recommended_news, relevant_news, k))\n",
        "    map_list.append(average_precision_at_k(recommended_news, relevant_news, k))\n",
        "    print(f\"User {user_id}: Precision@{k}: {precision_list[-1]:.4f}, Recall@{k}: {recall_list[-1]:.4f}, MAP@{k}: {map_list[-1]:.4f}\")\n",
        "\n",
        "print(f\"Precision@{k}: {np.mean(precision_list):.4f}\")\n",
        "print(f\"Recall@{k}: {np.mean(recall_list):.4f}\")\n",
        "print(f\"MAP@{k}: {np.mean(map_list):.4f}\")"
      ],
      "metadata": {
        "colab": {
          "base_uri": "https://localhost:8080/"
        },
        "id": "YnMDRyGkWy7j",
        "outputId": "09a94df0-055b-4c8d-b031-8d39dbfbba72"
      },
      "id": "YnMDRyGkWy7j",
      "execution_count": 22,
      "outputs": [
        {
          "output_type": "stream",
          "name": "stderr",
          "text": [
            "/tmp/ipython-input-2599077092.py:46: DeprecationWarning: DataFrameGroupBy.apply operated on the grouping columns. This behavior is deprecated, and in a future version of pandas the grouping columns will be excluded from the operation. Either pass `include_groups=False` to exclude the groupings or explicitly select the grouping columns after groupby to silence this warning.\n",
            "  recommended_df = all_ranked_df.groupby('deviceId').apply(\n",
            "/tmp/ipython-input-2599077092.py:50: DtypeWarning: Columns (7) have mixed types. Specify dtype option on import or set low_memory=False.\n",
            "  interaction_df = pd.read_csv(\"/content/drive/MyDrive/Companies Interview Projects/InShorts/cleaned_data/interaction_cleaned_data.csv\")\n"
          ]
        },
        {
          "output_type": "stream",
          "name": "stdout",
          "text": [
            "                                  deviceId  \\\n",
            "35    00fba709-7306-43cb-a142-77fdc64c7c60   \n",
            "673   1059f2f2-4df8-4004-85ed-f28073edc9cd   \n",
            "2221  36a447be-2634-4cbf-a7a6-74307492bb52   \n",
            "3455  56003287-a2ce-4f2a-916e-2a2d6310bf9c   \n",
            "4564  6fd2c3db-038a-4205-9d00-fd48e3e3c4d2   \n",
            "5235  7fd4b3dc-278f-45e4-833f-97060a5201b0   \n",
            "6373  9b9875ad-4a1c-434c-90e8-020126a89aec   \n",
            "7074  ad79abc6-90fd-41b8-a02d-65b3aed72b00   \n",
            "8287  cac0d80a-12ac-4611-989b-d8c6691ad464   \n",
            "8868  d8ff6a99-742c-492c-a4a5-29d4c3feedae   \n",
            "\n",
            "                                       recommended_news  \n",
            "35    [k9uagpdf-1, bddc4fif-1, cuxxdr1f-1, vy7ltisw-...  \n",
            "673   [f0anwhqe-1, toaghhve-1, thddrrcb-1, vy7ltisw-...  \n",
            "2221  [thddrrcb-1, vy7ltisw-1, k9uagpdf-1, toaghhve-...  \n",
            "3455  [8av0y4xl-1, cuxxdr1f-1, k9uagpdf-1, bddc4fif-...  \n",
            "4564  [vy7ltisw-1, unuesamp-1, f0anwhqe-1, thddrrcb-...  \n",
            "5235  [unuesamp-1, f0anwhqe-1, vy7ltisw-1, thddrrcb-...  \n",
            "6373  [unuesamp-1, f0anwhqe-1, zdhnk8kt-1, ogeto5xh-...  \n",
            "7074  [rg6eh65z-1, toaghhve-1, f0anwhqe-1, vy7ltisw-...  \n",
            "8287  [unuesamp-1, rg6eh65z-1, thddrrcb-1, vy7ltisw-...  \n",
            "8868  [unuesamp-1, thddrrcb-1, f0anwhqe-1, rg6eh65z-...  \n",
            "User 00fba709-7306-43cb-a142-77fdc64c7c60: Precision@5: 0.0000, Recall@5: 0.0000, MAP@5: 0.0000\n",
            "User 1059f2f2-4df8-4004-85ed-f28073edc9cd: Precision@5: 0.0000, Recall@5: 0.0000, MAP@5: 0.0000\n",
            "User 36a447be-2634-4cbf-a7a6-74307492bb52: Precision@5: 0.0000, Recall@5: 0.0000, MAP@5: 0.0000\n",
            "User 56003287-a2ce-4f2a-916e-2a2d6310bf9c: Precision@5: 0.0000, Recall@5: 0.0000, MAP@5: 0.0000\n",
            "User 6fd2c3db-038a-4205-9d00-fd48e3e3c4d2: Precision@5: 0.0000, Recall@5: 0.0000, MAP@5: 0.0000\n",
            "User 7fd4b3dc-278f-45e4-833f-97060a5201b0: Precision@5: 0.0000, Recall@5: 0.0000, MAP@5: 0.0000\n",
            "User 9b9875ad-4a1c-434c-90e8-020126a89aec: Precision@5: 0.0000, Recall@5: 0.0000, MAP@5: 0.0000\n",
            "User ad79abc6-90fd-41b8-a02d-65b3aed72b00: Precision@5: 0.0000, Recall@5: 0.0000, MAP@5: 0.0000\n",
            "User cac0d80a-12ac-4611-989b-d8c6691ad464: Precision@5: 0.0000, Recall@5: 0.0000, MAP@5: 0.0000\n",
            "User d8ff6a99-742c-492c-a4a5-29d4c3feedae: Precision@5: 0.0000, Recall@5: 0.0000, MAP@5: 0.0000\n",
            "Precision@5: 0.0000\n",
            "Recall@5: 0.0000\n",
            "MAP@5: 0.0000\n"
          ]
        }
      ]
    }
  ],
  "metadata": {
    "kaggle": {
      "accelerator": "gpu",
      "dataSources": [
        {
          "datasetId": 5190427,
          "sourceId": 8662681,
          "sourceType": "datasetVersion"
        }
      ],
      "dockerImageVersionId": 30733,
      "isGpuEnabled": true,
      "isInternetEnabled": true,
      "language": "python",
      "sourceType": "notebook"
    },
    "kernelspec": {
      "display_name": "Python 3",
      "name": "python3"
    },
    "language_info": {
      "codemirror_mode": {
        "name": "ipython",
        "version": 3
      },
      "file_extension": ".py",
      "mimetype": "text/x-python",
      "name": "python",
      "nbconvert_exporter": "python",
      "pygments_lexer": "ipython3",
      "version": "3.9.16"
    },
    "colab": {
      "provenance": []
    }
  },
  "nbformat": 4,
  "nbformat_minor": 5
}